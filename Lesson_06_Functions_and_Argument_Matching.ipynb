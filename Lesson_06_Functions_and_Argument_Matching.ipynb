{
  "cells": [
    {
      "cell_type": "markdown",
      "metadata": {
        "id": "view-in-github",
        "colab_type": "text"
      },
      "source": [
        "<a href=\"https://colab.research.google.com/github/snigdha2808/Gen-AI-/blob/main/Lesson_06_Functions_and_Argument_Matching.ipynb\" target=\"_parent\"><img src=\"https://colab.research.google.com/assets/colab-badge.svg\" alt=\"Open In Colab\"/></a>"
      ]
    },
    {
      "cell_type": "code",
      "execution_count": null,
      "id": "a7328988-82b9-4f79-a6af-2d098cbca123",
      "metadata": {
        "id": "a7328988-82b9-4f79-a6af-2d098cbca123"
      },
      "outputs": [],
      "source": [
        "def myfunc():\n",
        "    print(\"inside function\")"
      ]
    },
    {
      "cell_type": "code",
      "execution_count": null,
      "id": "d6afb23d-f704-4267-86c3-0ff6f677056c",
      "metadata": {
        "id": "d6afb23d-f704-4267-86c3-0ff6f677056c",
        "outputId": "e9580911-76d4-45fd-8696-690400a7f71c"
      },
      "outputs": [
        {
          "name": "stdout",
          "output_type": "stream",
          "text": [
            "inside function\n"
          ]
        }
      ],
      "source": [
        "myfunc()"
      ]
    },
    {
      "cell_type": "code",
      "execution_count": null,
      "id": "997c4aa5-057d-487d-8d8b-1c57c7933a50",
      "metadata": {
        "id": "997c4aa5-057d-487d-8d8b-1c57c7933a50"
      },
      "outputs": [],
      "source": [
        "def myfunc(a,b):\n",
        "    print(\"inside function\")\n",
        "    print(a,b)"
      ]
    },
    {
      "cell_type": "code",
      "execution_count": null,
      "id": "090c788d-db34-42b8-88e9-65d6a4656baf",
      "metadata": {
        "id": "090c788d-db34-42b8-88e9-65d6a4656baf",
        "outputId": "33ef5dcf-3bbd-4af1-d269-008dfe2e7007"
      },
      "outputs": [
        {
          "name": "stdout",
          "output_type": "stream",
          "text": [
            "inside function\n",
            "10 20\n"
          ]
        }
      ],
      "source": [
        "#positional arguments\n",
        "myfunc(10,20)"
      ]
    },
    {
      "cell_type": "code",
      "execution_count": null,
      "id": "50338aac-3eaa-4703-95b0-0897f82fda93",
      "metadata": {
        "id": "50338aac-3eaa-4703-95b0-0897f82fda93",
        "outputId": "575ed3ba-6cc1-44f2-ea0b-7d002171cfb3"
      },
      "outputs": [
        {
          "name": "stdout",
          "output_type": "stream",
          "text": [
            "inside function\n",
            "20 10\n"
          ]
        }
      ],
      "source": [
        "myfunc(20,10)"
      ]
    },
    {
      "cell_type": "code",
      "execution_count": null,
      "id": "d771f3ce-b8fa-4b27-bfd9-5d69f0f19e85",
      "metadata": {
        "id": "d771f3ce-b8fa-4b27-bfd9-5d69f0f19e85"
      },
      "outputs": [],
      "source": [
        "## Key"
      ]
    },
    {
      "cell_type": "markdown",
      "id": "50df1e84-16ea-4555-9b41-e14952a00fac",
      "metadata": {
        "id": "50df1e84-16ea-4555-9b41-e14952a00fac"
      },
      "source": [
        "# __Function and Argument Matching__"
      ]
    },
    {
      "cell_type": "markdown",
      "id": "a18728f4-d622-4485-bc11-215fd584f06c",
      "metadata": {
        "id": "a18728f4-d622-4485-bc11-215fd584f06c"
      },
      "source": [
        "### __Create a function__\n",
        "- This function takes a person’s name and a greeting message, then prints them in a formatted manner.\n",
        "- The __sep=''__ ensures that no additional space appears between the strings being printed."
      ]
    },
    {
      "cell_type": "code",
      "execution_count": null,
      "id": "53ff6c79-2505-49ea-a96f-3970f26287e1",
      "metadata": {
        "id": "53ff6c79-2505-49ea-a96f-3970f26287e1",
        "outputId": "ebeed7e4-4f4d-4b26-c095-261b48152f34"
      },
      "outputs": [
        {
          "name": "stdout",
          "output_type": "stream",
          "text": [
            "Hello! John\n"
          ]
        }
      ],
      "source": [
        "# Define the function 'greetings' which takes two arguments: 'name' and 'greeting'\n",
        "def greetings(name, greeting):\n",
        "    # Print a greeting message\n",
        "    print(greeting, '! ', name, sep='')\n",
        "\n",
        "# Call the 'greetings' function with 'John' and 'Hello' as arguments\n",
        "greetings('John', 'Hello')"
      ]
    },
    {
      "cell_type": "markdown",
      "id": "56909a28-db15-4217-83f1-cd5b34afba24",
      "metadata": {
        "id": "56909a28-db15-4217-83f1-cd5b34afba24"
      },
      "source": [
        "### __Positional argument__\n",
        "- In this example, \"John\" is passed as the name, and \"Hello\" as the greeting.\n",
        "- Python matches the first argument (\"John\") with the first parameter (name) and the second argument (\"Hello\") with the second parameter (greeting)."
      ]
    },
    {
      "cell_type": "code",
      "execution_count": null,
      "id": "3c49c03a-befd-4df4-8bdc-32a2eab18e88",
      "metadata": {
        "id": "3c49c03a-befd-4df4-8bdc-32a2eab18e88",
        "outputId": "bd0bdc54-41ac-4b8a-ca83-7ca40688c23b"
      },
      "outputs": [
        {
          "name": "stdout",
          "output_type": "stream",
          "text": [
            "John! Hello\n"
          ]
        }
      ],
      "source": [
        "# Call the 'greetings' function with 'Hello' and 'John' as arguments in the given order\n",
        "greetings('Hello', 'John')"
      ]
    },
    {
      "cell_type": "markdown",
      "id": "c95d44df-0c10-498f-b713-ea680c634f96",
      "metadata": {
        "id": "c95d44df-0c10-498f-b713-ea680c634f96"
      },
      "source": [
        "### __Keyword argument__\n",
        "- This example causes the function to interpret \"Hello\" as the name and \"John\" as the greeting."
      ]
    },
    {
      "cell_type": "code",
      "execution_count": null,
      "id": "3260d23d-eb44-4ab6-8b13-c63a542f6f53",
      "metadata": {
        "id": "3260d23d-eb44-4ab6-8b13-c63a542f6f53",
        "outputId": "da25b543-8497-4a58-9c0f-25f3bff649d1"
      },
      "outputs": [
        {
          "name": "stdout",
          "output_type": "stream",
          "text": [
            "Hello! John\n"
          ]
        }
      ],
      "source": [
        "# Call the 'greetings' function with 'Hello' as the 'greeting' and 'John' as the 'name' using keyword arguments\n",
        "greetings(greeting= 'Hello', name = 'John')"
      ]
    },
    {
      "cell_type": "markdown",
      "id": "177c5281-627f-4db3-a1f2-5b4d6c9e50e7",
      "metadata": {
        "id": "177c5281-627f-4db3-a1f2-5b4d6c9e50e7"
      },
      "source": [
        "### __Parameters with default value__\n",
        "- The function is called using keyword arguments.\n",
        "- Instead of relying on the order of the arguments, each argument is explicitly assigned to a parameter name.\n",
        "- In this case, greeting='Hello' assigns \"Hello\" to the greeting parameter, and name='John' assigns \"John\" to the name parameter.\n",
        "- The order of the arguments does not matter when using keyword arguments."
      ]
    },
    {
      "cell_type": "code",
      "execution_count": null,
      "id": "28548d89-31f9-4bce-a9fe-5f219804da33",
      "metadata": {
        "id": "28548d89-31f9-4bce-a9fe-5f219804da33",
        "outputId": "da1b576c-ee95-4a40-a1d9-5d200268a003"
      },
      "outputs": [
        {
          "name": "stdout",
          "output_type": "stream",
          "text": [
            "Hello! John\n",
            "Hi! John\n"
          ]
        }
      ],
      "source": [
        "# Define the function 'greetings' with 'greeting' having a default value of 'Hello'\n",
        "def greetings(name, greeting='Hello'):\n",
        "    # Print a greeting message\n",
        "    print(greeting, '! ', name, sep='')\n",
        "\n",
        "# Call the 'greetings' function with only 'John' as the argument; 'greeting' will use the default value 'Hello'\n",
        "greetings('John')\n",
        "\n",
        "# Call the 'greetings' function with 'John' and 'Hi' as arguments\n",
        "greetings('John', 'Hi')"
      ]
    }
  ],
  "metadata": {
    "colab": {
      "provenance": [],
      "include_colab_link": true
    },
    "kernelspec": {
      "display_name": "Python 3 (ipykernel)",
      "language": "python",
      "name": "python3"
    },
    "language_info": {
      "codemirror_mode": {
        "name": "ipython",
        "version": 3
      },
      "file_extension": ".py",
      "mimetype": "text/x-python",
      "name": "python",
      "nbconvert_exporter": "python",
      "pygments_lexer": "ipython3",
      "version": "3.12.7"
    }
  },
  "nbformat": 4,
  "nbformat_minor": 5
}
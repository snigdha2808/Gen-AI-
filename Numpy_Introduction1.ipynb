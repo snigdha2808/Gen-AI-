{
  "cells": [
    {
      "cell_type": "markdown",
      "metadata": {
        "id": "view-in-github",
        "colab_type": "text"
      },
      "source": [
        "<a href=\"https://colab.research.google.com/github/snigdha2808/Gen-AI-/blob/main/Numpy_Introduction1.ipynb\" target=\"_parent\"><img src=\"https://colab.research.google.com/assets/colab-badge.svg\" alt=\"Open In Colab\"/></a>"
      ]
    },
    {
      "cell_type": "markdown",
      "metadata": {
        "id": "J41vOLwOtjn4"
      },
      "source": [
        "# __Introduction to NumPy__"
      ]
    },
    {
      "cell_type": "markdown",
      "metadata": {
        "id": "kr1xl7Qutjn5"
      },
      "source": [
        "## __Agenda__\n",
        "\n",
        "- Fundamentals of NumPy\n",
        "  * Advantages of NumPy\n",
        "  * NumPy: Installation and Import\n",
        "- NumPy: Array Object\n",
        "  * Creating NumPy Arrays"
      ]
    },
    {
      "cell_type": "markdown",
      "metadata": {
        "tags": [],
        "id": "ikxZPEEztjn6"
      },
      "source": [
        "## __1. Fundamentals of NumPy__\n",
        "\n",
        "NumPy (Numerical Python) is a free and open-source library that is mostly used for mathematical operations in scientific and engineering applications.\n",
        "\n",
        "- It is a Python library used for working with arrays.\n",
        "- It consists of a multidimensional array of objects and a collection of functions for manipulating them.\n",
        "- It conducts mathematical and logical operations on arrays.\n",
        "\n",
        "**Note:** The array object in NumPy is called ndarray."
      ]
    },
    {
      "cell_type": "markdown",
      "metadata": {
        "id": "Ax2IbbqItjn6"
      },
      "source": [
        "### __1.1  Advantages of NumPy__\n",
        "- It provides an array object that is faster than traditional Python lists.\n",
        "- It provides supporting functions.\n",
        "- Arrays are frequently used in data science.\n",
        "- NumPy arrays are stored in one continuous place in memory unlike lists."
      ]
    },
    {
      "cell_type": "markdown",
      "metadata": {
        "id": "v23vtUuUtjn6"
      },
      "source": [
        "### __1.2 NumPy: Installation and Import__\n",
        "- `C:\\Users\\Your Name>pip install numpy` command is used to install NumPy.\n",
        "- NumPy is imported under the name np like `import numpy as np`"
      ]
    },
    {
      "cell_type": "markdown",
      "metadata": {
        "id": "FppJNRAttjn6"
      },
      "source": [
        "## __2. NumPy: Array Object__\n",
        "A NumPy ndarray object can be created by using the array() function."
      ]
    },
    {
      "cell_type": "code",
      "execution_count": null,
      "metadata": {
        "id": "FgZIZlhOtjn7",
        "outputId": "08e3e11d-c465-4a9c-f871-c878c374a19d"
      },
      "outputs": [
        {
          "name": "stdout",
          "output_type": "stream",
          "text": [
            "[10 20 30 40 50]\n",
            "<class 'numpy.ndarray'>\n"
          ]
        }
      ],
      "source": [
        "# Example:\n",
        "import numpy as np\n",
        "arr = np.array ([10,20,30,40,50])\n",
        "print (arr)\n",
        "print (type(arr))"
      ]
    },
    {
      "cell_type": "markdown",
      "metadata": {
        "id": "2MAPyFbbtjn8"
      },
      "source": [
        "### __2.1 Creating NumPy Arrays__\n",
        "- Create multiple dimensional arrays, such as 0D, 1D, 2D, and 3D"
      ]
    },
    {
      "cell_type": "code",
      "execution_count": null,
      "metadata": {
        "id": "ltSvzbgAtjn8",
        "outputId": "f4198bbd-ace2-42f4-f3c0-acdec6e6aaaf"
      },
      "outputs": [
        {
          "name": "stdout",
          "output_type": "stream",
          "text": [
            "0D array is 24\n",
            "1D array is [1 2 3 4]\n",
            "2D array is [[1 1 1]\n",
            " [1 2 1]]\n",
            "3D array is [[[1 1 1]\n",
            "  [2 2 2]]\n",
            "\n",
            " [[3 3 3]\n",
            "  [4 4 4]]]\n"
          ]
        }
      ],
      "source": [
        "# Create a 0D Array\n",
        "arr0 = np.array(24)\n",
        "print ('0D array is', arr0)\n",
        "# Create a 1D Array\n",
        "arr1 = np.array([1,2,3,4])\n",
        "print ('1D array is', arr1)\n",
        "# Create a 2D Array\n",
        "arr2 = np.array([[1,1,1],[1,2,1]])\n",
        "print ('2D array is', arr2)\n",
        "# Create a 3D Array\n",
        "arr3 = np.array([[[1,1,1],[2,2,2]],[[3,3,3],[4,4,4]]])\n",
        "print ('3D array is', arr3)"
      ]
    },
    {
      "cell_type": "markdown",
      "metadata": {
        "id": "74iazjDBtjn8"
      },
      "source": [
        "**Observations:**\n",
        "- 1D arrays are unidimensional and have 0D arrays as its elements.\n",
        "- 2D arrays have 1D arrays as their elements.\n",
        "- 3D arrays have 2D arrays as their elements."
      ]
    }
  ],
  "metadata": {
    "kernelspec": {
      "display_name": "Python 3 [3.10]",
      "language": "python",
      "name": "python3"
    },
    "language_info": {
      "codemirror_mode": {
        "name": "ipython",
        "version": 3
      },
      "file_extension": ".py",
      "mimetype": "text/x-python",
      "name": "python",
      "nbconvert_exporter": "python",
      "pygments_lexer": "ipython3",
      "version": "3.10.2"
    },
    "colab": {
      "provenance": [],
      "include_colab_link": true
    }
  },
  "nbformat": 4,
  "nbformat_minor": 0
}
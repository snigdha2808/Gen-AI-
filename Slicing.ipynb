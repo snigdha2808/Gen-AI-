{
  "cells": [
    {
      "cell_type": "markdown",
      "metadata": {
        "id": "view-in-github",
        "colab_type": "text"
      },
      "source": [
        "<a href=\"https://colab.research.google.com/github/snigdha2808/Gen-AI-/blob/main/Slicing.ipynb\" target=\"_parent\"><img src=\"https://colab.research.google.com/assets/colab-badge.svg\" alt=\"Open In Colab\"/></a>"
      ]
    },
    {
      "cell_type": "markdown",
      "id": "3e4069c0-fb03-401c-be74-06141d895001",
      "metadata": {
        "id": "3e4069c0-fb03-401c-be74-06141d895001"
      },
      "source": [
        "# __Slicing__"
      ]
    },
    {
      "cell_type": "markdown",
      "id": "9ec43157-9c56-47b0-93f2-795dc2ad8837",
      "metadata": {
        "id": "9ec43157-9c56-47b0-93f2-795dc2ad8837"
      },
      "source": [
        "## __Agenda__\n",
        "\n",
        "- NumPy Array Slicing\n",
        "  * Slicing 1D NumPy Arrays\n",
        "  * Slicing Using Step Value\n",
        "  * Slicing: 2D Array\n",
        "  * Slicing: 3D Array\n",
        "  * Negative Slicing"
      ]
    },
    {
      "cell_type": "markdown",
      "id": "1f4c4f5b-38c0-4324-b01f-e4d3feafee9e",
      "metadata": {
        "id": "1f4c4f5b-38c0-4324-b01f-e4d3feafee9e"
      },
      "source": [
        "## __1. NumPy Array Slicing__\n",
        "\n",
        "- In Python, slicing refers to moving elements from one index to another.\n",
        "- Instead of using an index, the slice is passed as **[start:end]**.\n",
        "- Another way to pass the slice is to add a step as **[start:end:step]**.\n",
        "- In slicing, if the starting is not passed, it is considered as 0. If the step is not passed as 1 and if the end is not passed, it is considered as the length of the array in that dimension."
      ]
    },
    {
      "cell_type": "markdown",
      "id": "c537aba4-474e-49bb-a10a-bfa69b689bda",
      "metadata": {
        "id": "c537aba4-474e-49bb-a10a-bfa69b689bda"
      },
      "source": [
        "### __1.1 Slicing 1D NumPy Arrays__"
      ]
    },
    {
      "cell_type": "markdown",
      "id": "ff9bd87e-32b9-4ad4-abc1-da3d4d5f5a63",
      "metadata": {
        "id": "ff9bd87e-32b9-4ad4-abc1-da3d4d5f5a63"
      },
      "source": [
        "#### Example 1: Illustrate the use of slicing to retrieve employee ratings for a team of seven employees in the first quarter from an array"
      ]
    },
    {
      "cell_type": "code",
      "execution_count": null,
      "id": "755261a5-affd-4af4-a855-b403dba8ac32",
      "metadata": {
        "id": "755261a5-affd-4af4-a855-b403dba8ac32",
        "outputId": "557a9824-5bc1-499c-b0eb-15de5671b93b"
      },
      "outputs": [
        {
          "name": "stdout",
          "output_type": "stream",
          "text": [
            "[4 3 5 6 8 9]\n"
          ]
        }
      ],
      "source": [
        "import numpy as np\n",
        "Employee_rating = np.array([1, 4, 3, 5, 6, 8, 9, 10, 12])\n",
        "print(Employee_rating[1:7])"
      ]
    },
    {
      "cell_type": "markdown",
      "id": "3c080719-87b0-4d79-a99e-09493780843c",
      "metadata": {
        "id": "3c080719-87b0-4d79-a99e-09493780843c"
      },
      "source": [
        "#### Example 2: Print the list of three subjects from the fourth index to the end"
      ]
    },
    {
      "cell_type": "code",
      "execution_count": null,
      "id": "9aeed07b-ca8e-46c3-a68b-540eec9a5fac",
      "metadata": {
        "id": "9aeed07b-ca8e-46c3-a68b-540eec9a5fac",
        "outputId": "b7015e52-9c75-441d-d044-dc70fce1bc24"
      },
      "outputs": [
        {
          "name": "stdout",
          "output_type": "stream",
          "text": [
            "['OPPs' 'Java' 'Cloud']\n"
          ]
        }
      ],
      "source": [
        "Books = np.array(['Physics','DataScience','Maths','Python','Hadoop', 'OPPs', 'Java', 'Cloud'])\n",
        "print(Books[5:])"
      ]
    },
    {
      "cell_type": "markdown",
      "id": "de8b9f8a-0d02-4f56-9873-0e9b7c68a3d6",
      "metadata": {
        "id": "de8b9f8a-0d02-4f56-9873-0e9b7c68a3d6"
      },
      "source": [
        "### __1.2 Slicing Using Step Value__"
      ]
    },
    {
      "cell_type": "code",
      "execution_count": null,
      "id": "7537487d-b1c2-4ab7-8758-34eee371734f",
      "metadata": {
        "id": "7537487d-b1c2-4ab7-8758-34eee371734f",
        "outputId": "a1a527ee-4a06-4ad1-a794-39189972aa54"
      },
      "outputs": [
        {
          "name": "stdout",
          "output_type": "stream",
          "text": [
            "[7 4]\n"
          ]
        }
      ],
      "source": [
        "X = np.array([8, 7, 6, 5, 4, 3, 2, 1])\n",
        "print(X[1:6:3])"
      ]
    },
    {
      "cell_type": "markdown",
      "id": "494532f6-66af-4014-8bed-c59baa7fe0c8",
      "metadata": {
        "id": "494532f6-66af-4014-8bed-c59baa7fe0c8"
      },
      "source": [
        "### __1.3 Slicing: 2D Array__"
      ]
    },
    {
      "cell_type": "code",
      "execution_count": null,
      "id": "3106010b-cae1-47a3-a0a6-7cd7496bdfce",
      "metadata": {
        "id": "3106010b-cae1-47a3-a0a6-7cd7496bdfce",
        "outputId": "23a6a338-aaec-47ef-83af-053386908fa4"
      },
      "outputs": [
        {
          "name": "stdout",
          "output_type": "stream",
          "text": [
            "[33]\n"
          ]
        }
      ],
      "source": [
        "Z = np.array([[11, 22, 33, 44, 55], [66, 77, 88, 99, 110]])\n",
        "print(Z[0, 2:3])"
      ]
    },
    {
      "cell_type": "markdown",
      "id": "9cdaf70d-8e52-40ce-9eb1-f655b1b77bbf",
      "metadata": {
        "id": "9cdaf70d-8e52-40ce-9eb1-f655b1b77bbf"
      },
      "source": [
        "### __1.4 Slicing: 3D Array__"
      ]
    },
    {
      "cell_type": "code",
      "execution_count": null,
      "id": "2e1893a0-5ab4-4100-80d9-ded444672dd7",
      "metadata": {
        "id": "2e1893a0-5ab4-4100-80d9-ded444672dd7",
        "outputId": "0ff9dc3d-6bb3-466f-e6bb-059bb03345fa"
      },
      "outputs": [
        {
          "name": "stdout",
          "output_type": "stream",
          "text": [
            "[[5 6]]\n"
          ]
        }
      ],
      "source": [
        "array_3d = np.array([[[1,2,3],[4,5,6]],[[7,8,9],[10,11,12]]])\n",
        "print(array_3d[0,1:,1:])"
      ]
    },
    {
      "cell_type": "markdown",
      "id": "5e8eafc4-56a3-45a5-8a1c-f3ff39049ce2",
      "metadata": {
        "id": "5e8eafc4-56a3-45a5-8a1c-f3ff39049ce2"
      },
      "source": [
        "### __1.5 Negative Slicing__\n",
        "- Negative slicing is the same as negative indexing, which is interpreted as counting from the end of the array.\n",
        "\n",
        "![image.png](attachment:c873726d-3a46-4967-9ae2-3bc9745078cf.png)"
      ]
    },
    {
      "cell_type": "code",
      "execution_count": null,
      "id": "da999535-ee59-4cb0-9842-ec55a1ead5d8",
      "metadata": {
        "id": "da999535-ee59-4cb0-9842-ec55a1ead5d8",
        "outputId": "422a725d-daff-4f2f-c8d9-495ef4488da5"
      },
      "outputs": [
        {
          "name": "stdout",
          "output_type": "stream",
          "text": [
            "[13 34 58 69 44 56 37]\n"
          ]
        }
      ],
      "source": [
        "# Negative slicing for 1D array\n",
        "Neg_slice = np.array([13, 34, 58, 69, 44, 56, 37,24])\n",
        "print(Neg_slice[:-1])"
      ]
    }
  ],
  "metadata": {
    "kernelspec": {
      "display_name": "Python 3 [3.10]",
      "language": "python",
      "name": "python3"
    },
    "language_info": {
      "codemirror_mode": {
        "name": "ipython",
        "version": 3
      },
      "file_extension": ".py",
      "mimetype": "text/x-python",
      "name": "python",
      "nbconvert_exporter": "python",
      "pygments_lexer": "ipython3",
      "version": "3.10.2"
    },
    "colab": {
      "provenance": [],
      "include_colab_link": true
    }
  },
  "nbformat": 4,
  "nbformat_minor": 5
}
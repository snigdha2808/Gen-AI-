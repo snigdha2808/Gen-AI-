{
  "cells": [
    {
      "cell_type": "markdown",
      "metadata": {
        "id": "view-in-github",
        "colab_type": "text"
      },
      "source": [
        "<a href=\"https://colab.research.google.com/github/snigdha2808/Gen-AI-/blob/main/3_03_NumPy_Arithmetic_Statistical_and_String_Functions.ipynb\" target=\"_parent\"><img src=\"https://colab.research.google.com/assets/colab-badge.svg\" alt=\"Open In Colab\"/></a>"
      ]
    },
    {
      "cell_type": "markdown",
      "id": "71f69af7-b9a3-47b0-b1a7-43d231db8030",
      "metadata": {
        "id": "71f69af7-b9a3-47b0-b1a7-43d231db8030"
      },
      "source": [
        "# __NumPy Arithmetic Statistical and String Functions__"
      ]
    },
    {
      "cell_type": "markdown",
      "source": [],
      "metadata": {
        "id": "MTpG1uu50-Wd"
      },
      "id": "MTpG1uu50-Wd"
    },
    {
      "cell_type": "code",
      "source": [],
      "metadata": {
        "id": "pqnVvT1U2xju"
      },
      "id": "pqnVvT1U2xju",
      "execution_count": null,
      "outputs": []
    },
    {
      "cell_type": "markdown",
      "id": "463e7ab1-7426-4526-a13f-dff8ab39f4ed",
      "metadata": {
        "id": "463e7ab1-7426-4526-a13f-dff8ab39f4ed"
      },
      "source": [
        "## __Agenda__\n",
        "\n",
        "- Arithmetic Operations Using NumPy\n",
        "  * Addition\n",
        "  * Subtraction\n",
        "  * Multiplication\n",
        "  * Division\n",
        "  * Power of\n",
        "- Statistical Function in Numpy\n",
        "  * Calculating Median, Mean, Standard Deviation, and Variance in the Array\n",
        "  * Calculating Percentiles\n",
        "- String Function in Numpy"
      ]
    },
    {
      "cell_type": "markdown",
      "id": "e66cb653-4b00-4156-8ac3-c99f3f935e48",
      "metadata": {
        "id": "e66cb653-4b00-4156-8ac3-c99f3f935e48"
      },
      "source": [
        "## __1. Arithmetic Operations Using NumPy__ ##\n",
        "### __1.1 Addition__ ###"
      ]
    },
    {
      "cell_type": "code",
      "execution_count": null,
      "id": "8e576b81-8187-4609-97b1-ed62c206f8d3",
      "metadata": {
        "id": "8e576b81-8187-4609-97b1-ed62c206f8d3",
        "outputId": "edbb374d-72b3-464a-d461-9a7fb300d044",
        "colab": {
          "base_uri": "https://localhost:8080/"
        }
      },
      "outputs": [
        {
          "output_type": "stream",
          "name": "stdout",
          "text": [
            "[40 40 40]\n"
          ]
        }
      ],
      "source": [
        "# Perform element-wise addition of two arrays using the 'np.add' method\n",
        "import numpy as np\n",
        "a = np.array([30,20,10])\n",
        "b = np.array([10,20,30])\n",
        "result = np.add (a,b)\n",
        "print(result)"
      ]
    },
    {
      "cell_type": "markdown",
      "id": "49e66a1a-5c38-490c-b0fe-0d19c4a42974",
      "metadata": {
        "id": "49e66a1a-5c38-490c-b0fe-0d19c4a42974"
      },
      "source": [
        "### __1.2 Subtraction__ ###"
      ]
    },
    {
      "cell_type": "code",
      "execution_count": null,
      "id": "283afd30-831c-4c1f-98be-a320676b2f09",
      "metadata": {
        "id": "283afd30-831c-4c1f-98be-a320676b2f09",
        "outputId": "ef121446-0544-4312-a647-1ebf11ac2b05",
        "colab": {
          "base_uri": "https://localhost:8080/"
        }
      },
      "outputs": [
        {
          "output_type": "stream",
          "name": "stdout",
          "text": [
            "[[20 20 30]\n",
            " [10 40 10]]\n"
          ]
        }
      ],
      "source": [
        "# Perform element-wise subtraction of two arrays using 'np.subtract' method\n",
        "a = np.array([[30,40,60], [50,70,90]])\n",
        "b = np.array([[10,20,30], [40,30,80]])\n",
        "result = np.subtract (a,b)\n",
        "print(result)"
      ]
    },
    {
      "cell_type": "markdown",
      "id": "3e709ed3-fae3-44ab-9001-2369326a3dd4",
      "metadata": {
        "id": "3e709ed3-fae3-44ab-9001-2369326a3dd4"
      },
      "source": [
        "### __1.3 Multiplication__ ###"
      ]
    },
    {
      "cell_type": "code",
      "execution_count": null,
      "id": "2e0a5652-5e45-4557-90ef-b6a5ee0e61ff",
      "metadata": {
        "id": "2e0a5652-5e45-4557-90ef-b6a5ee0e61ff",
        "outputId": "02799220-5981-4f76-8f24-ab773605a1dd",
        "colab": {
          "base_uri": "https://localhost:8080/"
        }
      },
      "outputs": [
        {
          "output_type": "stream",
          "name": "stdout",
          "text": [
            "[300 400 300]\n"
          ]
        }
      ],
      "source": [
        "# Perform element-wise multiplication of two arrays using the 'np.multiply' method\n",
        "a = np.array([30,20,10])\n",
        "b = np.array([10,20,30])\n",
        "result = np.multiply (a,b)\n",
        "print(result)"
      ]
    },
    {
      "cell_type": "markdown",
      "id": "ba84975c-4826-422c-b05d-6c1f899406b8",
      "metadata": {
        "id": "ba84975c-4826-422c-b05d-6c1f899406b8"
      },
      "source": [
        "### __1.4 Division__ ###"
      ]
    },
    {
      "cell_type": "code",
      "execution_count": null,
      "id": "8458d9cc-86e5-41d2-a9db-b652b9c26146",
      "metadata": {
        "id": "8458d9cc-86e5-41d2-a9db-b652b9c26146",
        "outputId": "13f53fe2-0386-4058-adcb-889313beb1ac",
        "colab": {
          "base_uri": "https://localhost:8080/"
        }
      },
      "outputs": [
        {
          "output_type": "stream",
          "name": "stdout",
          "text": [
            "[[0.33333333 0.5        0.2       ]\n",
            " [0.66666667 0.5        0.6       ]]\n"
          ]
        }
      ],
      "source": [
        "# Perform element-wise division of two arrays using the 'np.divide' method\n",
        "a = np.array([[1,2,1],[2,2,3]])\n",
        "b = np.array([3,4,5])\n",
        "result = np.divide (a,b)\n",
        "print(result)"
      ]
    },
    {
      "cell_type": "markdown",
      "id": "0a0df077-26b8-4a49-87d7-3c05862413f9",
      "metadata": {
        "id": "0a0df077-26b8-4a49-87d7-3c05862413f9"
      },
      "source": [
        "### __1.5 Power of__ ###"
      ]
    },
    {
      "cell_type": "code",
      "execution_count": null,
      "id": "f7977369-a637-4782-8b0f-b0fa937c1c44",
      "metadata": {
        "id": "f7977369-a637-4782-8b0f-b0fa937c1c44",
        "outputId": "d7b07ed2-3238-4eb3-df0c-f0e7649b76a7",
        "colab": {
          "base_uri": "https://localhost:8080/"
        }
      },
      "outputs": [
        {
          "output_type": "stream",
          "name": "stdout",
          "text": [
            "[ 4  8 16 32 64]\n"
          ]
        }
      ],
      "source": [
        "# Perform element-wise power operation where each element in 'a' is raised to the corresponding element in 'b' using the 'np.power' method\n",
        "a = [2,2,2,2,2]\n",
        "b = [2,3,4,5,6]\n",
        "c = np.power(a,b)\n",
        "print(c)"
      ]
    },
    {
      "cell_type": "markdown",
      "id": "249cda35-2cf7-4605-9492-6aaf29547b47",
      "metadata": {
        "id": "249cda35-2cf7-4605-9492-6aaf29547b47"
      },
      "source": [
        "## __2. Statistical Function in Numpy__ ##\n",
        "### __2.1 Calculating Median, Mean, Standard Deviation, and Variance in the Array__ ###"
      ]
    },
    {
      "cell_type": "code",
      "execution_count": null,
      "id": "ce6f29e3-ef36-4964-ab28-5e5c4ad9af1d",
      "metadata": {
        "id": "ce6f29e3-ef36-4964-ab28-5e5c4ad9af1d",
        "outputId": "fa2686c6-daf8-4b00-ef25-c7e72e0a99c9"
      },
      "outputs": [
        {
          "name": "stdout",
          "output_type": "stream",
          "text": [
            "4.0\n",
            "6.333333333333333\n",
            "6.944222218666553\n",
            "48.22222222222222\n"
          ]
        }
      ],
      "source": [
        "# Median\n",
        "array = np.array([[4,3,2],[10,1,0],[5,8,24]])\n",
        "np.median(array)\n",
        "print(np.median(array))\n",
        "# Mean\n",
        "np.mean(array)\n",
        "print(np.mean(array))\n",
        "# Standard Deviation\n",
        "np.std(array)\n",
        "print(np.std(array))\n",
        "# Variance\n",
        "np.var(array)\n",
        "print(np.var(array))"
      ]
    },
    {
      "cell_type": "markdown",
      "id": "b3c908ef-fb26-4d59-85ac-3e507643252a",
      "metadata": {
        "id": "b3c908ef-fb26-4d59-85ac-3e507643252a"
      },
      "source": [
        "### __2.2 Calculating Percentiles__ ###\n",
        "- The `np.percentile()` function is used to compute the nth percentile of the array elements.\n",
        "- The nth percentile value should be in between 0 and 100."
      ]
    },
    {
      "cell_type": "code",
      "execution_count": null,
      "id": "7f0d73e1-eff0-47cb-9cbe-84dc5dea70cc",
      "metadata": {
        "id": "7f0d73e1-eff0-47cb-9cbe-84dc5dea70cc",
        "outputId": "44b4de59-a47d-40a9-cd00-24245e0ccc35"
      },
      "outputs": [
        {
          "data": {
            "text/plain": [
              "4.0"
            ]
          },
          "execution_count": 7,
          "metadata": {},
          "output_type": "execute_result"
        }
      ],
      "source": [
        "# Find the value under the 50th percentile of the NumPy array.\n",
        "np.percentile(array,50)"
      ]
    },
    {
      "cell_type": "markdown",
      "id": "65e5fcb5-3f10-476f-b302-ceac8bb76ad0",
      "metadata": {
        "id": "65e5fcb5-3f10-476f-b302-ceac8bb76ad0"
      },
      "source": [
        "## __3. String Function in Numpy__ ##"
      ]
    },
    {
      "cell_type": "code",
      "execution_count": null,
      "id": "39365f76-42ee-4329-964a-d3fd871aabdc",
      "metadata": {
        "id": "39365f76-42ee-4329-964a-d3fd871aabdc",
        "outputId": "9fbc0f81-7311-438e-fcb1-4e7f3d59f994"
      },
      "outputs": [
        {
          "name": "stdout",
          "output_type": "stream",
          "text": [
            "['HelloWelcome' 'WorldLearners']\n"
          ]
        }
      ],
      "source": [
        "# Perform element-wise string concatenation for two arrays of string\n",
        "x = np.array(['Hello','World'])\n",
        "y = np.array(['Welcome', 'Learners'])\n",
        "result = np.char.add(x,y)\n",
        "print(result)"
      ]
    },
    {
      "cell_type": "code",
      "execution_count": null,
      "id": "2f75ebb2-e557-45b2-942c-bc7c8158ed74",
      "metadata": {
        "id": "2f75ebb2-e557-45b2-942c-bc7c8158ed74",
        "outputId": "27e9f237-b2db-4981-b753-dde60f9d7372"
      },
      "outputs": [
        {
          "name": "stdout",
          "output_type": "stream",
          "text": [
            "Hello How Are You\n",
            "Hi How Are You\n"
          ]
        }
      ],
      "source": [
        "# Replacing the old substring with the new substring\n",
        "str = \"Hello How Are You\"\n",
        "print(str)\n",
        "z = np.char.replace (str, 'Hello', 'Hi')\n",
        "print (z)"
      ]
    },
    {
      "cell_type": "code",
      "execution_count": null,
      "id": "fb8ea5a2-0356-4828-ad5a-9d80f12830fb",
      "metadata": {
        "id": "fb8ea5a2-0356-4828-ad5a-9d80f12830fb",
        "outputId": "42a71f05-0613-4a62-a649-3e4441cb9b14"
      },
      "outputs": [
        {
          "name": "stdout",
          "output_type": "stream",
          "text": [
            "hello how are you\n",
            "HELLO HOW ARE YOU\n",
            "GREETINGS OF THE DAY\n",
            "greetings of the day\n"
          ]
        }
      ],
      "source": [
        "# Converting all lowercase characters in a string to uppercase and vice-versa\n",
        "str1 = \"hello how are you\"\n",
        "print(str1)\n",
        "z = np.char.upper (str1)\n",
        "print(z)\n",
        "str2 = \"GREETINGS OF THE DAY\"\n",
        "print(str2)\n",
        "s = np.char.lower (str2)\n",
        "print(s)"
      ]
    }
  ],
  "metadata": {
    "kernelspec": {
      "display_name": "Python 3 [3.10]",
      "language": "python",
      "name": "python3"
    },
    "language_info": {
      "codemirror_mode": {
        "name": "ipython",
        "version": 3
      },
      "file_extension": ".py",
      "mimetype": "text/x-python",
      "name": "python",
      "nbconvert_exporter": "python",
      "pygments_lexer": "ipython3",
      "version": "3.10.2"
    },
    "colab": {
      "provenance": [],
      "include_colab_link": true
    }
  },
  "nbformat": 4,
  "nbformat_minor": 5
}
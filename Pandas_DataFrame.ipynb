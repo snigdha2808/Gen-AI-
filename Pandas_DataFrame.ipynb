{
  "cells": [
    {
      "cell_type": "markdown",
      "metadata": {
        "id": "view-in-github",
        "colab_type": "text"
      },
      "source": [
        "<a href=\"https://colab.research.google.com/github/snigdha2808/Gen-AI-/blob/main/Pandas_DataFrame.ipynb\" target=\"_parent\"><img src=\"https://colab.research.google.com/assets/colab-badge.svg\" alt=\"Open In Colab\"/></a>"
      ]
    },
    {
      "cell_type": "markdown",
      "id": "18a7f740-396f-4bef-999a-9cb61fd41d12",
      "metadata": {
        "id": "18a7f740-396f-4bef-999a-9cb61fd41d12"
      },
      "source": [
        "# __Pandas DataFrame__"
      ]
    },
    {
      "cell_type": "markdown",
      "id": "5f161e11-a92b-4765-a46b-1cec4d5f5b53",
      "metadata": {
        "id": "5f161e11-a92b-4765-a46b-1cec4d5f5b53"
      },
      "source": [
        "## __Agenda__  \n",
        "// used for custom indexing -->\n",
        "\n",
        "- Introduction to Pandas DataFrame\n",
        "  * Creating a DataFrame Using Different Methods\n",
        "  * Accessing the DataFrame\n",
        "  * Understanding DataFrame Basics\n",
        "- Introduction to Statistical Operations in Pandas\n",
        "  * Descriptive Statistics\n",
        "  * Mean, Median, and Standard Deviation\n",
        "  * Correlation Analysis"
      ]
    },
    {
      "cell_type": "markdown",
      "id": "3093b1e7-64d6-4f8f-9495-82adee99866d",
      "metadata": {
        "id": "3093b1e7-64d6-4f8f-9495-82adee99866d"
      },
      "source": [
        "## __1. Introduction to Pandas DataFrame__"
      ]
    },
    {
      "cell_type": "markdown",
      "id": "86c9a9a4-52b9-4075-8e95-a3c8e52a88ce",
      "metadata": {
        "id": "86c9a9a4-52b9-4075-8e95-a3c8e52a88ce"
      },
      "source": [
        "A Pandas DataFrame is a two-dimensional, tabular data structure with labeled axes (rows and columns).\n",
        "\n",
        "It is a primary data structure in the Pandas library, providing a versatile and efficient way to handle and manipulate data in Python.\n",
        "\n",
        "![link text](https://labcontent.simplicdn.net/data-content/content-assets/Data_and_AI/ADSP_Images/Lesson_04_Working_with_Pandas/2_Introduction_to_DataFrame/Introduction_to_Pandas_DataFrame.png)"
      ]
    },
    {
      "cell_type": "markdown",
      "id": "5edc8910-6c68-4dad-8eaa-e221a8a8332e",
      "metadata": {
        "id": "5edc8910-6c68-4dad-8eaa-e221a8a8332e"
      },
      "source": [
        "### __Key Features:__\n",
        "- __Tabular structure:__ The DataFrame is organized as a table with rows and columns, similar to a spreadsheet or SQL table.\n",
        "\n",
        "- __Labeled axes:__ Both rows and columns are labeled, allowing for easy indexing and referencing of data.\n",
        "\n",
        "- __Heterogeneous data types:__ Each column in a DataFrame can contain different types of data, such as integers, floats, strings, or even complex objects.\n",
        "\n",
        "- __Versatility:__ DataFrames can store and handle a wide range of data formats, including CSV, Excel, SQL databases, and more.\n",
        "\n",
        "- __Data alignment:__ Operations on DataFrames are designed to handle missing values gracefully, aligning data based on labels."
      ]
    },
    {
      "cell_type": "markdown",
      "id": "f4f12ae3-83d5-4da6-883d-0b92ff4ec7e4",
      "metadata": {
        "id": "f4f12ae3-83d5-4da6-883d-0b92ff4ec7e4"
      },
      "source": [
        "### __1.1 Creating a DataFrame Using Different Methods__\n",
        "Creating a Pandas DataFrame is a fundamental step in data analysis and manipulation.\n",
        "- Diverse methods are available within Pandas to generate a DataFrame, addressing various data sources and structures.\n",
        "- Data, whether in Python dictionaries, lists, NumPy arrays, or external files such as CSV and Excel, can be seamlessly transformed into a structured tabular format by Pandas."
      ]
    },
    {
      "cell_type": "code",
      "execution_count": null,
      "id": "eda81a89-1b27-453a-9440-4d911e24c383",
      "metadata": {
        "id": "eda81a89-1b27-453a-9440-4d911e24c383",
        "outputId": "eda1038b-d799-49af-e1f6-dc4d33949832",
        "colab": {
          "base_uri": "https://localhost:8080/"
        }
      },
      "outputs": [
        {
          "output_type": "stream",
          "name": "stdout",
          "text": [
            "      Name  Age  Salary\n",
            "0    Alice   25   50000\n",
            "1      Bob   30   60000\n",
            "2  Charlie   22   45000\n",
            "      Name  Age  Salary\n",
            "0    Alice   25   50000\n",
            "1      Bob   30   60000\n",
            "2  Charlie   22   45000\n",
            "      Name Age Salary\n",
            "0    Alice  25  50000\n",
            "1      Bob  30  60000\n",
            "2  Charlie  22  45000\n",
            "                     date         price  bedrooms  bathrooms  sqft_living  \\\n",
            "0     2014-05-02 00:00:00  3.130000e+05       3.0       1.50         1340   \n",
            "1     2014-05-02 00:00:00  2.384000e+06       5.0       2.50         3650   \n",
            "2     2014-05-02 00:00:00  3.420000e+05       3.0       2.00         1930   \n",
            "3     2014-05-02 00:00:00  4.200000e+05       3.0       2.25         2000   \n",
            "4     2014-05-02 00:00:00  5.500000e+05       4.0       2.50         1940   \n",
            "...                   ...           ...       ...        ...          ...   \n",
            "4595  2014-07-09 00:00:00  3.081667e+05       3.0       1.75         1510   \n",
            "4596  2014-07-09 00:00:00  5.343333e+05       3.0       2.50         1460   \n",
            "4597  2014-07-09 00:00:00  4.169042e+05       3.0       2.50         3010   \n",
            "4598  2014-07-10 00:00:00  2.034000e+05       4.0       2.00         2090   \n",
            "4599  2014-07-10 00:00:00  2.206000e+05       3.0       2.50         1490   \n",
            "\n",
            "      sqft_lot  floors  waterfront  view  condition  sqft_above  \\\n",
            "0         7912     1.5           0     0          3        1340   \n",
            "1         9050     2.0           0     4          5        3370   \n",
            "2        11947     1.0           0     0          4        1930   \n",
            "3         8030     1.0           0     0          4        1000   \n",
            "4        10500     1.0           0     0          4        1140   \n",
            "...        ...     ...         ...   ...        ...         ...   \n",
            "4595      6360     1.0           0     0          4        1510   \n",
            "4596      7573     2.0           0     0          3        1460   \n",
            "4597      7014     2.0           0     0          3        3010   \n",
            "4598      6630     1.0           0     0          3        1070   \n",
            "4599      8102     2.0           0     0          4        1490   \n",
            "\n",
            "      sqft_basement  yr_built  yr_renovated                    street  \\\n",
            "0                 0      1955          2005      18810 Densmore Ave N   \n",
            "1               280      1921             0           709 W Blaine St   \n",
            "2                 0      1966             0  26206-26214 143rd Ave SE   \n",
            "3              1000      1963             0           857 170th Pl NE   \n",
            "4               800      1976          1992         9105 170th Ave NE   \n",
            "...             ...       ...           ...                       ...   \n",
            "4595              0      1954          1979            501 N 143rd St   \n",
            "4596              0      1983          2009          14855 SE 10th Pl   \n",
            "4597              0      2009             0          759 Ilwaco Pl NE   \n",
            "4598           1020      1974             0         5148 S Creston St   \n",
            "4599              0      1990             0         18717 SE 258th St   \n",
            "\n",
            "           city  statezip country  \n",
            "0     Shoreline  WA 98133     USA  \n",
            "1       Seattle  WA 98119     USA  \n",
            "2          Kent  WA 98042     USA  \n",
            "3      Bellevue  WA 98008     USA  \n",
            "4       Redmond  WA 98052     USA  \n",
            "...         ...       ...     ...  \n",
            "4595    Seattle  WA 98133     USA  \n",
            "4596   Bellevue  WA 98007     USA  \n",
            "4597     Renton  WA 98059     USA  \n",
            "4598    Seattle  WA 98178     USA  \n",
            "4599  Covington  WA 98042     USA  \n",
            "\n",
            "[4600 rows x 18 columns]\n"
          ]
        }
      ],
      "source": [
        "import pandas as pd\n",
        "\n",
        "# Creating a DataFrame from a dictionary\n",
        "data_dict = {'Name': ['Alice', 'Bob', 'Charlie'],\n",
        "             'Age': [25, 30, 22],\n",
        "             'Salary': [50000, 60000, 45000]}\n",
        "\n",
        "df_dict = pd.DataFrame(data_dict)\n",
        "print(df_dict)\n",
        "\n",
        "# Creating a DataFrame from lists\n",
        "data_list = [['Alice', 25, 50000], ['Bob', 30, 60000], ['Charlie', 22, 45000]]\n",
        "\n",
        "# Defining column names\n",
        "columns = ['Name', 'Age', 'Salary']\n",
        "\n",
        "df_list = pd.DataFrame(data_list, columns=columns)\n",
        "print(df_list)\n",
        "\n",
        "# Creating a DataFrame from a NumPy array\n",
        "import numpy as np\n",
        "data_array = np.array([['Alice', 25, 50000],\n",
        "                       ['Bob', 30, 60000],\n",
        "                       ['Charlie', 22, 45000]])\n",
        "\n",
        "df_array = pd.DataFrame(data_array, columns=columns)\n",
        "print(df_array)\n",
        "\n",
        "# Creating a DataFrame from a CSV file\n",
        "df_csv = pd.read_csv('/content/HousePrices.csv')\n",
        "print(df_csv)\n",
        "\n",
        "# Creating a DataFrame from an Excel file\n",
        "# df_excel = pd.read_excel('Iris.xlsx')\n",
        "# print(df_excel)"
      ]
    },
    {
      "cell_type": "markdown",
      "id": "555e022e-611a-4160-8239-6ce56fe9d29f",
      "metadata": {
        "id": "555e022e-611a-4160-8239-6ce56fe9d29f"
      },
      "source": [
        "### __1.2 Accessing the DataFrame__\n",
        "\n",
        "Accessing a Pandas DataFrame involves employing various methods for selecting and retrieving data, whether it be specific columns, rows, or individual cells.\n",
        "- Utilizing square brackets, iloc and loc indexers, and conditions, analysts can navigate and extract the necessary information from the DataFrame for further analysis and manipulation.\n",
        "- The flexibility of Pandas allows for both label-based and position-based indexing, offering a versatile toolkit for accessing and working with data efficiently."
      ]
    },
    {
      "cell_type": "code",
      "source": [
        "import pandas as pd\n",
        "\n",
        "# Creating a sample DataFrame\n",
        "data = {'Column_name': [5, 15, 8],\n",
        "        'Column1': [10, 20, 30],\n",
        "        'Column2': [100, 200, 300],\n",
        "        'Another_column': [25, 35, 45]}\n",
        "\n",
        "df = pd.DataFrame(data)\n",
        "print(df)\n",
        "\n",
        "# Accessing a single column\n",
        "column_data = df['Column_name']\n",
        "print(\"Single column:\")\n",
        "print(column_data)\n",
        "\n",
        "# Accessing multiple columns\n",
        "selected_columns = df[['Column1', 'Column2']]\n",
        "print(\"\\nMultiple columns:\")\n",
        "print(selected_columns)\n",
        "\n"
      ],
      "metadata": {
        "colab": {
          "base_uri": "https://localhost:8080/"
        },
        "id": "tsOwgH03h6Z8",
        "outputId": "40b5af6c-8017-462f-fc08-8a1a6e6fc561"
      },
      "id": "tsOwgH03h6Z8",
      "execution_count": null,
      "outputs": [
        {
          "output_type": "stream",
          "name": "stdout",
          "text": [
            "   Column_name  Column1  Column2  Another_column\n",
            "0            5       10      100              25\n",
            "1           15       20      200              35\n",
            "2            8       30      300              45\n",
            "Single column:\n",
            "0     5\n",
            "1    15\n",
            "2     8\n",
            "Name: Column_name, dtype: int64\n",
            "\n",
            "Multiple columns:\n",
            "   Column1  Column2\n",
            "0       10      100\n",
            "1       20      200\n",
            "2       30      300\n"
          ]
        }
      ]
    },
    {
      "cell_type": "code",
      "execution_count": null,
      "id": "ec60049b-383f-4bd7-91fb-1a78332cc892",
      "metadata": {
        "id": "ec60049b-383f-4bd7-91fb-1a78332cc892",
        "outputId": "d4fa813a-1afd-49c7-a11d-c6ed1e9d9c00",
        "colab": {
          "base_uri": "https://localhost:8080/"
        }
      },
      "outputs": [
        {
          "output_type": "stream",
          "name": "stdout",
          "text": [
            "\n",
            "Specific row:\n",
            "Column_name         5\n",
            "Column1            10\n",
            "Column2           100\n",
            "Another_column     25\n",
            "Name: 0, dtype: int64\n",
            "\n",
            "Filtered rows:\n",
            "   Column_name  Column1  Column2  Another_column\n",
            "1           15       20      200              35\n",
            "\n",
            "Single cell by label:\n",
            "5\n",
            "\n",
            "Single cell by position:\n",
            "10\n",
            "10\n",
            "\n",
            "Data using .loc:\n",
            "5\n",
            "\n",
            "Conditional access:\n",
            "1    35\n",
            "Name: Another_column, dtype: int64\n"
          ]
        }
      ],
      "source": [
        "# Accessing a specific row by index // iloc- position based indexing\n",
        "row_data = df.iloc[0]\n",
        "print(\"\\nSpecific row:\")\n",
        "print(row_data)\n",
        "\n",
        "# Accessing rows based on a condition\n",
        "filtered_rows = df[df['Column_name'] > 10]\n",
        "print(\"\\nFiltered rows:\")\n",
        "print(filtered_rows)\n",
        "\n",
        "# Accessing a single cell by label // (row, column) // at is similar to iloc\n",
        "value = df.at[0, 'Column_name']\n",
        "print(\"\\nSingle cell by label:\")\n",
        "print(value)\n",
        "\n",
        "# Accessing a single cell by position\n",
        "value = df.iat[0, 1]  # Row 0, Column 1\n",
        "value1 = df.iat[0, 1]\n",
        "print(\"\\nSingle cell by position:\")\n",
        "print(value)\n",
        "print(value1)\n",
        "\n",
        "# Accessing data using .loc\n",
        "selected_data = df.loc[0, 'Column_name']\n",
        "print(\"\\nData using .loc:\")\n",
        "print(selected_data)\n",
        "\n",
        "# Conditional access\n",
        "selected_data = df[df['Column_name'] > 10]['Another_column']\n",
        "print(\"\\nConditional access:\")\n",
        "print(selected_data)\n"
      ]
    },
    {
      "cell_type": "markdown",
      "id": "c4b37718-a43f-4eee-aea1-c2e896c84b8d",
      "metadata": {
        "id": "c4b37718-a43f-4eee-aea1-c2e896c84b8d"
      },
      "source": [
        "### __1.3 Understanding DataFrame Basics__\n",
        "- The head() and tail() methods enable users to efficiently preview the initial and final rows of a DataFrame, offering a quick snapshot of its structure and content.\n",
        "- These functions are invaluable for a preliminary assessment of column names, data types, and potential issues. Additionally, the info() method provides a comprehensive summary, detailing data types, non-null counts, and memory usage, aiding in the identification of missing or inconsistent data.\n",
        "- The shape attribute, on the other hand, succinctly communicates the dimensions of the DataFrame, encapsulating the number of rows and columns.\n",
        "- The syntax for some functions is provided below:"
      ]
    },
    {
      "cell_type": "markdown",
      "id": "bd7a7ded-7983-4d36-8225-1bac4115eb22",
      "metadata": {
        "id": "bd7a7ded-7983-4d36-8225-1bac4115eb22"
      },
      "source": [
        "![link text](https://labcontent.simplicdn.net/data-content/content-assets/Data_and_AI/ADSP_Images/Lesson_04_Working_with_Pandas/2_Introduction_to_DataFrame/Understanding_DataFrame_Basics.png)"
      ]
    },
    {
      "cell_type": "code",
      "execution_count": null,
      "id": "cc6ba427-60e1-4a47-80f4-30b797ce7b08",
      "metadata": {
        "id": "cc6ba427-60e1-4a47-80f4-30b797ce7b08",
        "outputId": "5e3b53f9-6d34-4b12-96ee-85a5ed337c63",
        "colab": {
          "base_uri": "https://localhost:8080/"
        }
      },
      "outputs": [
        {
          "output_type": "stream",
          "name": "stdout",
          "text": [
            "First 2 rows:\n",
            "   Column_name  Column1  Column2  Another_column\n",
            "0            5       10      100              25\n",
            "1           15       20      200              35\n",
            "\n",
            "Last row:\n",
            "   Column_name  Column1  Column2  Another_column\n",
            "2            8       30      300              45\n",
            "\n",
            "DataFrame summary:\n",
            "<class 'pandas.core.frame.DataFrame'>\n",
            "RangeIndex: 3 entries, 0 to 2\n",
            "Data columns (total 4 columns):\n",
            " #   Column          Non-Null Count  Dtype\n",
            "---  ------          --------------  -----\n",
            " 0   Column_name     3 non-null      int64\n",
            " 1   Column1         3 non-null      int64\n",
            " 2   Column2         3 non-null      int64\n",
            " 3   Another_column  3 non-null      int64\n",
            "dtypes: int64(4)\n",
            "memory usage: 228.0 bytes\n",
            "\n",
            "DataFrame dimensions:\n",
            "(3, 4)\n"
          ]
        }
      ],
      "source": [
        "import pandas as pd\n",
        "\n",
        "# Create a sample DataFrame\n",
        "data = {'Column_name': [5, 15, 8],\n",
        "        'Column1': [10, 20, 30],\n",
        "        'Column2': [100, 200, 300],\n",
        "        'Another_column': [25, 35, 45]}\n",
        "\n",
        "df = pd.DataFrame(data)\n",
        "\n",
        "# Display the first 2 rows\n",
        "print(\"First 2 rows:\")\n",
        "print(df.head(2))\n",
        "\n",
        "# Display the last row\n",
        "print(\"\\nLast row:\")\n",
        "print(df.tail(1))\n",
        "\n",
        "# Provide a comprehensive summary of the DataFrame\n",
        "print(\"\\nDataFrame summary:\")\n",
        "df.info()\n",
        "\n",
        "# Return a tuple representing the dimensions of the DataFrame (Rows, columns)\n",
        "print(\"\\nDataFrame dimensions:\")\n",
        "print(df.shape)\n"
      ]
    },
    {
      "cell_type": "markdown",
      "id": "8c53b5ea-e217-4590-a746-a30ee7fc0136",
      "metadata": {
        "id": "8c53b5ea-e217-4590-a746-a30ee7fc0136"
      },
      "source": [
        "## __2. Introduction to Statistical Operations in Pandas__\n",
        "Pandas supports the computation of fundamental measures such as mean and median, along with the exploration of correlations and distribution characteristics.\n",
        "\n",
        "The following examples illustrate key statistical operations available in Pandas:"
      ]
    },
    {
      "cell_type": "markdown",
      "id": "fbfd9f4c-3272-4682-9b8d-dd2150b1f514",
      "metadata": {
        "id": "fbfd9f4c-3272-4682-9b8d-dd2150b1f514"
      },
      "source": [
        "### __2.1 Descriptive Statistics__\n",
        "It offers a snapshot of the dataset's central tendencies and dispersions.\n",
        "\n",
        "The describe() function provides a quick summary, including mean, standard deviation, and quartile information."
      ]
    },
    {
      "cell_type": "code",
      "execution_count": null,
      "id": "6e589afe-ef2f-4a16-b9bd-3c102b992d52",
      "metadata": {
        "id": "6e589afe-ef2f-4a16-b9bd-3c102b992d52",
        "outputId": "13652ed9-bd38-4cf2-c952-43ef8437879a",
        "colab": {
          "base_uri": "https://localhost:8080/"
        }
      },
      "outputs": [
        {
          "output_type": "stream",
          "name": "stdout",
          "text": [
            "Descriptive statistics for numeric columns:\n",
            "       Numeric_column1  Numeric_column2  Numeric_column3\n",
            "count         3.000000              3.0              3.0\n",
            "mean          9.333333             20.0            200.0\n",
            "std           5.131601             10.0            100.0\n",
            "min           5.000000             10.0            100.0\n",
            "25%           6.500000             15.0            150.0\n",
            "50%           8.000000             20.0            200.0\n",
            "75%          11.500000             25.0            250.0\n",
            "max          15.000000             30.0            300.0\n"
          ]
        }
      ],
      "source": [
        "import pandas as pd\n",
        "\n",
        "# Create a sample DataFrame with numeric columns\n",
        "data = {'Numeric_column1': [5, 15, 8],\n",
        "        'Numeric_column2': [10, 20, 30],\n",
        "        'Numeric_column3': [100, 200, 300]}\n",
        "\n",
        "df = pd.DataFrame(data)\n",
        "\n",
        "# Display descriptive statistics for numeric columns\n",
        "print(\"Descriptive statistics for numeric columns:\")\n",
        "print(df.describe())\n"
      ]
    },
    {
      "cell_type": "markdown",
      "id": "91e99a26-a143-4bdb-856f-1ec069ce6451",
      "metadata": {
        "id": "91e99a26-a143-4bdb-856f-1ec069ce6451"
      },
      "source": [
        "### __2.1 Mean, Median, and Standard Deviation__"
      ]
    },
    {
      "cell_type": "code",
      "execution_count": null,
      "id": "d2e147e1-b9c1-47ab-8873-98ba11dce8aa",
      "metadata": {
        "id": "d2e147e1-b9c1-47ab-8873-98ba11dce8aa",
        "outputId": "834693a2-b18b-4ea7-c6b3-a1ffae1ebbc2",
        "colab": {
          "base_uri": "https://localhost:8080/"
        }
      },
      "outputs": [
        {
          "output_type": "stream",
          "name": "stdout",
          "text": [
            "Mean:\n",
            " Numeric_column1      9.333333\n",
            "Numeric_column2     20.000000\n",
            "Numeric_column3    200.000000\n",
            "dtype: float64\n",
            "\n",
            "Median:\n",
            " Numeric_column1      8.0\n",
            "Numeric_column2     20.0\n",
            "Numeric_column3    200.0\n",
            "dtype: float64\n",
            "\n",
            "Standard deviation:\n",
            " Numeric_column1      5.131601\n",
            "Numeric_column2     10.000000\n",
            "Numeric_column3    100.000000\n",
            "dtype: float64\n"
          ]
        }
      ],
      "source": [
        "import pandas as pd\n",
        "\n",
        "# Create a sample DataFrame with numeric columns\n",
        "data = {'Numeric_column1': [5, 15, 8],\n",
        "        'Numeric_column2': [10, 20, 30],\n",
        "        'Numeric_column3': [100, 200, 300]}\n",
        "\n",
        "df = pd.DataFrame(data)\n",
        "\n",
        "# Calculate mean, median, and standard deviation\n",
        "mean_value = df.mean()\n",
        "median_value = df.median()\n",
        "std_deviation = df.std()\n",
        "\n",
        "print(\"Mean:\\n\", mean_value)\n",
        "print(\"\\nMedian:\\n\", median_value)\n",
        "print(\"\\nStandard deviation:\\n\", std_deviation)\n"
      ]
    },
    {
      "cell_type": "markdown",
      "id": "1e0cdfe3-7794-441c-aa11-ee5568948a04",
      "metadata": {
        "id": "1e0cdfe3-7794-441c-aa11-ee5568948a04"
      },
      "source": [
        "### __2.2 Correlation Analysis__\n",
        "The corr() function generates a correlation matrix, indicating how variables relate to each other.\n",
        "\n",
        "Values closer to 1 or -1 imply a stronger correlation, while values near 0 suggest a weaker correlation."
      ]
    },
    {
      "cell_type": "code",
      "execution_count": null,
      "id": "49f0a61a-7235-406c-93c6-a0b058c2290c",
      "metadata": {
        "id": "49f0a61a-7235-406c-93c6-a0b058c2290c",
        "outputId": "9564ef58-d212-4b1e-e471-0ed16a5865cc",
        "colab": {
          "base_uri": "https://localhost:8080/"
        }
      },
      "outputs": [
        {
          "output_type": "stream",
          "name": "stdout",
          "text": [
            "Correlation matrix:\n",
            "                  Numeric_column1  Numeric_column2  Numeric_column3\n",
            "Numeric_column1         1.000000         0.292306         0.292306\n",
            "Numeric_column2         0.292306         1.000000         1.000000\n",
            "Numeric_column3         0.292306         1.000000         1.000000\n"
          ]
        }
      ],
      "source": [
        "import pandas as pd\n",
        "\n",
        "# Create a sample DataFrame with numeric columns\n",
        "data = {'Numeric_column1': [5, 15, 8],\n",
        "        'Numeric_column2': [10, 20, 30],\n",
        "        'Numeric_column3': [100, 200, 300]}\n",
        "\n",
        "df = pd.DataFrame(data)\n",
        "\n",
        "# Compute correlation matrix\n",
        "correlation_matrix = df.corr()\n",
        "\n",
        "print(\"Correlation matrix:\\n\", correlation_matrix)\n"
      ]
    },
    {
      "cell_type": "markdown",
      "id": "5c6ed3c2-5514-4835-a80e-8dc98fa9bdae",
      "metadata": {
        "id": "5c6ed3c2-5514-4835-a80e-8dc98fa9bdae"
      },
      "source": [
        "#### __Value Counts__\n",
        "The value_counts() function tallies the occurrences of unique values in a categorical column, aiding in understanding the distribution of categorical data."
      ]
    },
    {
      "cell_type": "code",
      "execution_count": null,
      "id": "a05de1b4-8843-4e35-bfc2-54f396dc632d",
      "metadata": {
        "id": "a05de1b4-8843-4e35-bfc2-54f396dc632d",
        "outputId": "d84a94b6-725a-4c2c-f7a8-0ef0db08b3ab",
        "colab": {
          "base_uri": "https://localhost:8080/"
        }
      },
      "outputs": [
        {
          "output_type": "stream",
          "name": "stdout",
          "text": [
            "Value counts:\n",
            " Category\n",
            "A    4\n",
            "B    3\n",
            "C    3\n",
            "Name: count, dtype: int64\n"
          ]
        }
      ],
      "source": [
        "import pandas as pd\n",
        "\n",
        "# Create a sample DataFrame with a category column //\n",
        "data = {'Category': ['A', 'B', 'A', 'C', 'B', 'A', 'C', 'A', 'B', 'C']}\n",
        "df = pd.DataFrame(data)\n",
        "\n",
        "# Count occurrences of unique values in the category column\n",
        "value_counts = df['Category'].value_counts()\n",
        "\n",
        "print(\"Value counts:\\n\", value_counts)\n"
      ]
    },
    {
      "cell_type": "markdown",
      "id": "da230e3d-1147-49a2-9411-17169d445e4c",
      "metadata": {
        "id": "da230e3d-1147-49a2-9411-17169d445e4c"
      },
      "source": [
        "# __Assisted Practice__"
      ]
    },
    {
      "cell_type": "markdown",
      "id": "5eab7ef8-642c-4d4c-9e95-056dbabc2316",
      "metadata": {
        "id": "5eab7ef8-642c-4d4c-9e95-056dbabc2316"
      },
      "source": [
        "## __Problem Statement:__\n",
        "Analyze a housing dataset using Pandas DataFrame and statistical operations to understand the basic characteristics of the data and the relationships between different variables."
      ]
    },
    {
      "cell_type": "markdown",
      "id": "f05d2491-7333-4512-b201-ab574733f9e9",
      "metadata": {
        "id": "f05d2491-7333-4512-b201-ab574733f9e9"
      },
      "source": [
        "## __Steps to Perform:__\n",
        "- Load the housing dataset into a Pandas DataFrame\n",
        "- Familiarize with the DataFrame basics such as its structure, data types of the columns, and summary statistics\n",
        "- Calculate descriptive statistics like mean, median, and standard deviation for numerical columns such as __LotArea__, __YearBuilt__, __1stFlrSF__, __2ndFlrSF__, and __SalePrice__\n",
        "- Determine the correlation between different numerical variables such as __LotArea__ and __SalePrice__, __YearBuilt__ and __SalePrice__, __1stFlrSF__ and __SalePrice__, and __2ndFlrSF__ and __SalePrice__\n",
        "- Count the number of occurrences of each category in categorical variables such as __Neighborhood__, __BldgType__, and __HouseStyle__"
      ]
    },
    {
      "cell_type": "code",
      "source": [
        "data= pd.read_csv('/content/HousePrices.csv')"
      ],
      "metadata": {
        "id": "0qhEcdhHrZQQ"
      },
      "id": "0qhEcdhHrZQQ",
      "execution_count": null,
      "outputs": []
    },
    {
      "cell_type": "code",
      "source": [
        "print(pd.DataFrame(data.describe()))"
      ],
      "metadata": {
        "colab": {
          "base_uri": "https://localhost:8080/"
        },
        "id": "J7HHBk-Lsb8R",
        "outputId": "83998415-7805-4e11-9c62-260c5ee03c90"
      },
      "id": "J7HHBk-Lsb8R",
      "execution_count": null,
      "outputs": [
        {
          "output_type": "stream",
          "name": "stdout",
          "text": [
            "              price     bedrooms    bathrooms   sqft_living      sqft_lot  \\\n",
            "count  4.600000e+03  4600.000000  4600.000000   4600.000000  4.600000e+03   \n",
            "mean   5.519630e+05     3.400870     2.160815   2139.346957  1.485252e+04   \n",
            "std    5.638347e+05     0.908848     0.783781    963.206916  3.588444e+04   \n",
            "min    0.000000e+00     0.000000     0.000000    370.000000  6.380000e+02   \n",
            "25%    3.228750e+05     3.000000     1.750000   1460.000000  5.000750e+03   \n",
            "50%    4.609435e+05     3.000000     2.250000   1980.000000  7.683000e+03   \n",
            "75%    6.549625e+05     4.000000     2.500000   2620.000000  1.100125e+04   \n",
            "max    2.659000e+07     9.000000     8.000000  13540.000000  1.074218e+06   \n",
            "\n",
            "            floors   waterfront         view    condition   sqft_above  \\\n",
            "count  4600.000000  4600.000000  4600.000000  4600.000000  4600.000000   \n",
            "mean      1.512065     0.007174     0.240652     3.451739  1827.265435   \n",
            "std       0.538288     0.084404     0.778405     0.677230   862.168977   \n",
            "min       1.000000     0.000000     0.000000     1.000000   370.000000   \n",
            "25%       1.000000     0.000000     0.000000     3.000000  1190.000000   \n",
            "50%       1.500000     0.000000     0.000000     3.000000  1590.000000   \n",
            "75%       2.000000     0.000000     0.000000     4.000000  2300.000000   \n",
            "max       3.500000     1.000000     4.000000     5.000000  9410.000000   \n",
            "\n",
            "       sqft_basement     yr_built  yr_renovated  \n",
            "count    4600.000000  4600.000000   4600.000000  \n",
            "mean      312.081522  1970.786304    808.608261  \n",
            "std       464.137228    29.731848    979.414536  \n",
            "min         0.000000  1900.000000      0.000000  \n",
            "25%         0.000000  1951.000000      0.000000  \n",
            "50%         0.000000  1976.000000      0.000000  \n",
            "75%       610.000000  1997.000000   1999.000000  \n",
            "max      4820.000000  2014.000000   2014.000000  \n"
          ]
        }
      ]
    },
    {
      "cell_type": "code",
      "source": [
        "# print(pd.DataFrame(data))\n",
        "\n",
        "# Calculate mean for the specified columns\n",
        "mean_values = data[['sqft_lot']].mean()\n",
        "print(\"\\nMean values:\")\n",
        "print(mean_values)\n",
        "\n",
        "# # Calculate median for the specified columns\n",
        "median_values = data[['sqft_lot', 'sqft_living', 'sqft_above', 'sqft_basement', 'price', 'yr_built']].median()\n",
        "print(\"\\nMedian values:\")\n",
        "print(median_values)\n",
        "\n",
        "# # Calculate standard deviation for the specified columns\n",
        "std_deviation_values = data[['sqft_lot', 'sqft_living', 'sqft_above', 'sqft_basement', 'price', 'yr_built']].std()\n",
        "print(\"\\nStandard deviation values:\")\n",
        "print(std_deviation_values)"
      ],
      "metadata": {
        "colab": {
          "base_uri": "https://localhost:8080/"
        },
        "id": "8i2egFG6tifP",
        "outputId": "4d4e8e5b-26c3-4324-a243-21fb4dea41b5"
      },
      "id": "8i2egFG6tifP",
      "execution_count": null,
      "outputs": [
        {
          "output_type": "stream",
          "name": "stdout",
          "text": [
            "\n",
            "Mean values:\n",
            "sqft_lot    14852.516087\n",
            "dtype: float64\n",
            "\n",
            "Median values:\n",
            "sqft_lot           7683.000000\n",
            "sqft_living        1980.000000\n",
            "sqft_above         1590.000000\n",
            "sqft_basement         0.000000\n",
            "price            460943.461539\n",
            "yr_built           1976.000000\n",
            "dtype: float64\n",
            "\n",
            "Standard deviation values:\n",
            "sqft_lot          35884.436145\n",
            "sqft_living         963.206916\n",
            "sqft_above          862.168977\n",
            "sqft_basement       464.137228\n",
            "price            563834.702547\n",
            "yr_built             29.731848\n",
            "dtype: float64\n"
          ]
        }
      ]
    }
  ],
  "metadata": {
    "kernelspec": {
      "display_name": "Python 3 [3.10]",
      "language": "python",
      "name": "python3"
    },
    "language_info": {
      "codemirror_mode": {
        "name": "ipython",
        "version": 3
      },
      "file_extension": ".py",
      "mimetype": "text/x-python",
      "name": "python",
      "nbconvert_exporter": "python",
      "pygments_lexer": "ipython3",
      "version": "3.10.2"
    },
    "colab": {
      "provenance": [],
      "include_colab_link": true
    }
  },
  "nbformat": 4,
  "nbformat_minor": 5
}